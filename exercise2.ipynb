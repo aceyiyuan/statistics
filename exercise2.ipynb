{
  "nbformat": 4,
  "nbformat_minor": 0,
  "metadata": {
    "colab": {
      "name": "exercise2.ipynb",
      "provenance": [],
      "authorship_tag": "ABX9TyPKe50yJRccJmN21tXFZBMw",
      "include_colab_link": true
    },
    "kernelspec": {
      "name": "ir",
      "display_name": "R"
    }
  },
  "cells": [
    {
      "cell_type": "markdown",
      "metadata": {
        "id": "view-in-github",
        "colab_type": "text"
      },
      "source": [
        "<a href=\"https://colab.research.google.com/github/dizzySummer/statistics/blob/main/exercise2.ipynb\" target=\"_parent\"><img src=\"https://colab.research.google.com/assets/colab-badge.svg\" alt=\"Open In Colab\"/></a>"
      ]
    },
    {
      "cell_type": "code",
      "metadata": {
        "id": "p_lBgmNjIFpP",
        "outputId": "29e0ca47-cee3-4773-d671-d7fabd02af19",
        "colab": {
          "base_uri": "https://localhost:8080/",
          "height": 204
        }
      },
      "source": [
        "library(tidyverse)"
      ],
      "execution_count": 1,
      "outputs": [
        {
          "output_type": "stream",
          "text": [
            "── \u001b[1mAttaching packages\u001b[22m ─────────────────────────────────────── tidyverse 1.3.0 ──\n",
            "\n",
            "\u001b[32m✔\u001b[39m \u001b[34mggplot2\u001b[39m 3.3.2     \u001b[32m✔\u001b[39m \u001b[34mpurrr  \u001b[39m 0.3.4\n",
            "\u001b[32m✔\u001b[39m \u001b[34mtibble \u001b[39m 3.0.3     \u001b[32m✔\u001b[39m \u001b[34mdplyr  \u001b[39m 1.0.2\n",
            "\u001b[32m✔\u001b[39m \u001b[34mtidyr  \u001b[39m 1.1.2     \u001b[32m✔\u001b[39m \u001b[34mstringr\u001b[39m 1.4.0\n",
            "\u001b[32m✔\u001b[39m \u001b[34mreadr  \u001b[39m 1.3.1     \u001b[32m✔\u001b[39m \u001b[34mforcats\u001b[39m 0.5.0\n",
            "\n",
            "── \u001b[1mConflicts\u001b[22m ────────────────────────────────────────── tidyverse_conflicts() ──\n",
            "\u001b[31m✖\u001b[39m \u001b[34mdplyr\u001b[39m::\u001b[32mfilter()\u001b[39m masks \u001b[34mstats\u001b[39m::filter()\n",
            "\u001b[31m✖\u001b[39m \u001b[34mdplyr\u001b[39m::\u001b[32mlag()\u001b[39m    masks \u001b[34mstats\u001b[39m::lag()\n",
            "\n"
          ],
          "name": "stderr"
        }
      ]
    },
    {
      "cell_type": "code",
      "metadata": {
        "id": "AjWFxRzjI27B",
        "outputId": "181ecbd9-b5d0-4b7e-f448-907a8fdffe10",
        "colab": {
          "base_uri": "https://localhost:8080/",
          "height": 374
        }
      },
      "source": [
        "cats<-read_tsv(\"/content/cats.txt\")\n",
        "head(cats)"
      ],
      "execution_count": 6,
      "outputs": [
        {
          "output_type": "stream",
          "text": [
            "Parsed with column specification:\n",
            "cols(\n",
            "  Name = \u001b[31mcol_character()\u001b[39m,\n",
            "  Breed = \u001b[31mcol_character()\u001b[39m,\n",
            "  Sex = \u001b[31mcol_character()\u001b[39m,\n",
            "  Neutered = \u001b[31mcol_character()\u001b[39m,\n",
            "  Age = \u001b[32mcol_double()\u001b[39m,\n",
            "  Weight = \u001b[32mcol_double()\u001b[39m\n",
            ")\n",
            "\n"
          ],
          "name": "stderr"
        },
        {
          "output_type": "display_data",
          "data": {
            "text/plain": [
              "  Name      Breed                 Sex    Neutered Age Weight\n",
              "1 Messi     Domestic short-haired male   yes      1   5.2   \n",
              "2 Forlan    Domestic short-haired male   yes      1   5.3   \n",
              "3 Galadriel Domestic short-haired female yes      3   3.3   \n",
              "4 Gandalf   Domestic short-haired male   yes      3   3.3   \n",
              "5 Idun      Domestic short-haired female no       6   5.5   \n",
              "6 Polly     Domestic short-haired female yes      7   3.2   "
            ],
            "text/latex": "A tibble: 6 × 6\n\\begin{tabular}{llllll}\n Name & Breed & Sex & Neutered & Age & Weight\\\\\n <chr> & <chr> & <chr> & <chr> & <dbl> & <dbl>\\\\\n\\hline\n\t Messi     & Domestic short-haired & male   & yes & 1 & 5.2\\\\\n\t Forlan    & Domestic short-haired & male   & yes & 1 & 5.3\\\\\n\t Galadriel & Domestic short-haired & female & yes & 3 & 3.3\\\\\n\t Gandalf   & Domestic short-haired & male   & yes & 3 & 3.3\\\\\n\t Idun      & Domestic short-haired & female & no  & 6 & 5.5\\\\\n\t Polly     & Domestic short-haired & female & yes & 7 & 3.2\\\\\n\\end{tabular}\n",
            "text/markdown": "\nA tibble: 6 × 6\n\n| Name &lt;chr&gt; | Breed &lt;chr&gt; | Sex &lt;chr&gt; | Neutered &lt;chr&gt; | Age &lt;dbl&gt; | Weight &lt;dbl&gt; |\n|---|---|---|---|---|---|\n| Messi     | Domestic short-haired | male   | yes | 1 | 5.2 |\n| Forlan    | Domestic short-haired | male   | yes | 1 | 5.3 |\n| Galadriel | Domestic short-haired | female | yes | 3 | 3.3 |\n| Gandalf   | Domestic short-haired | male   | yes | 3 | 3.3 |\n| Idun      | Domestic short-haired | female | no  | 6 | 5.5 |\n| Polly     | Domestic short-haired | female | yes | 7 | 3.2 |\n\n",
            "text/html": [
              "<table>\n",
              "<caption>A tibble: 6 × 6</caption>\n",
              "<thead>\n",
              "\t<tr><th scope=col>Name</th><th scope=col>Breed</th><th scope=col>Sex</th><th scope=col>Neutered</th><th scope=col>Age</th><th scope=col>Weight</th></tr>\n",
              "\t<tr><th scope=col>&lt;chr&gt;</th><th scope=col>&lt;chr&gt;</th><th scope=col>&lt;chr&gt;</th><th scope=col>&lt;chr&gt;</th><th scope=col>&lt;dbl&gt;</th><th scope=col>&lt;dbl&gt;</th></tr>\n",
              "</thead>\n",
              "<tbody>\n",
              "\t<tr><td>Messi    </td><td>Domestic short-haired</td><td>male  </td><td>yes</td><td>1</td><td>5.2</td></tr>\n",
              "\t<tr><td>Forlan   </td><td>Domestic short-haired</td><td>male  </td><td>yes</td><td>1</td><td>5.3</td></tr>\n",
              "\t<tr><td>Galadriel</td><td>Domestic short-haired</td><td>female</td><td>yes</td><td>3</td><td>3.3</td></tr>\n",
              "\t<tr><td>Gandalf  </td><td>Domestic short-haired</td><td>male  </td><td>yes</td><td>3</td><td>3.3</td></tr>\n",
              "\t<tr><td>Idun     </td><td>Domestic short-haired</td><td>female</td><td>no </td><td>6</td><td>5.5</td></tr>\n",
              "\t<tr><td>Polly    </td><td>Domestic short-haired</td><td>female</td><td>yes</td><td>7</td><td>3.2</td></tr>\n",
              "</tbody>\n",
              "</table>\n"
            ]
          },
          "metadata": {
            "tags": []
          }
        }
      ]
    },
    {
      "cell_type": "code",
      "metadata": {
        "id": "RX0u8n__Jr5G",
        "outputId": "d61522cd-1787-4940-f0ad-65885617edd7",
        "colab": {
          "base_uri": "https://localhost:8080/",
          "height": 204
        }
      },
      "source": [
        "yield<-read.csv2(\"/content/yield.csv\")\n",
        "head(yield)"
      ],
      "execution_count": 10,
      "outputs": [
        {
          "output_type": "display_data",
          "data": {
            "text/plain": [
              "  field variety yield\n",
              "1 1     1       35   \n",
              "2 2     1       62   \n",
              "3 3     1       19   \n",
              "4 4     1       34   \n",
              "5 5     1       72   \n",
              "6 6     1       52   "
            ],
            "text/latex": "A data.frame: 6 × 3\n\\begin{tabular}{r|lll}\n  & field & variety & yield\\\\\n  & <int> & <int> & <int>\\\\\n\\hline\n\t1 & 1 & 1 & 35\\\\\n\t2 & 2 & 1 & 62\\\\\n\t3 & 3 & 1 & 19\\\\\n\t4 & 4 & 1 & 34\\\\\n\t5 & 5 & 1 & 72\\\\\n\t6 & 6 & 1 & 52\\\\\n\\end{tabular}\n",
            "text/markdown": "\nA data.frame: 6 × 3\n\n| <!--/--> | field &lt;int&gt; | variety &lt;int&gt; | yield &lt;int&gt; |\n|---|---|---|---|\n| 1 | 1 | 1 | 35 |\n| 2 | 2 | 1 | 62 |\n| 3 | 3 | 1 | 19 |\n| 4 | 4 | 1 | 34 |\n| 5 | 5 | 1 | 72 |\n| 6 | 6 | 1 | 52 |\n\n",
            "text/html": [
              "<table>\n",
              "<caption>A data.frame: 6 × 3</caption>\n",
              "<thead>\n",
              "\t<tr><th></th><th scope=col>field</th><th scope=col>variety</th><th scope=col>yield</th></tr>\n",
              "\t<tr><th></th><th scope=col>&lt;int&gt;</th><th scope=col>&lt;int&gt;</th><th scope=col>&lt;int&gt;</th></tr>\n",
              "</thead>\n",
              "<tbody>\n",
              "\t<tr><th scope=row>1</th><td>1</td><td>1</td><td>35</td></tr>\n",
              "\t<tr><th scope=row>2</th><td>2</td><td>1</td><td>62</td></tr>\n",
              "\t<tr><th scope=row>3</th><td>3</td><td>1</td><td>19</td></tr>\n",
              "\t<tr><th scope=row>4</th><td>4</td><td>1</td><td>34</td></tr>\n",
              "\t<tr><th scope=row>5</th><td>5</td><td>1</td><td>72</td></tr>\n",
              "\t<tr><th scope=row>6</th><td>6</td><td>1</td><td>52</td></tr>\n",
              "</tbody>\n",
              "</table>\n"
            ]
          },
          "metadata": {
            "tags": []
          }
        }
      ]
    },
    {
      "cell_type": "markdown",
      "metadata": {
        "id": "XELHRmk4Kf9i"
      },
      "source": [
        "**2. Expressions, transformations and new variables and filtering in R**\n",
        "\n",
        "The common arithmetic operators +, -, * and / are available as well as common mathematical functions likeexp, sqrt and log (which denotes the natural logarithm). Exponents are computed ˆ.New variables or datasets (data.frames or tibbles) are assigned using<-or->, e.g."
      ]
    },
    {
      "cell_type": "code",
      "metadata": {
        "id": "mQJHNILZKdue"
      },
      "source": [
        "cats1<-cats%>%mutate(logWeight=log(Weight))"
      ],
      "execution_count": 11,
      "outputs": []
    },
    {
      "cell_type": "markdown",
      "metadata": {
        "id": "12FHJ8ysLfzI"
      },
      "source": [
        "Remember that new classes can be made by:"
      ]
    },
    {
      "cell_type": "code",
      "metadata": {
        "id": "NuuCDJZELIrZ"
      },
      "source": [
        "cats_new <- cats%>%\n",
        "mutate(Ageclass=case_when(Age<4~\"<4\",\n",
        "                          Age>=4 & Age<7~\"4-6\",\n",
        "                          Age>=7 & Age<10~\"7-9\",\n",
        "                          Age>=10~\">9\"))"
      ],
      "execution_count": null,
      "outputs": []
    },
    {
      "cell_type": "code",
      "metadata": {
        "id": "fNfA41HRMURR",
        "outputId": "dc651a43-bdee-455f-ad49-c7d18bccf06e",
        "colab": {
          "base_uri": "https://localhost:8080/",
          "height": 204
        }
      },
      "source": [
        "t.test(cats$Weight, mu=5)\n",
        "# or in tidyverse notation: cats%>%t.test(.$Weight, data=., mu=5)"
      ],
      "execution_count": 14,
      "outputs": [
        {
          "output_type": "display_data",
          "data": {
            "text/plain": [
              "\n",
              "\tOne Sample t-test\n",
              "\n",
              "data:  cats$Weight\n",
              "t = -3.1019, df = 56, p-value = 0.00301\n",
              "alternative hypothesis: true mean is not equal to 5\n",
              "95 percent confidence interval:\n",
              " 4.156882 4.818557\n",
              "sample estimates:\n",
              "mean of x \n",
              " 4.487719 \n"
            ]
          },
          "metadata": {
            "tags": []
          }
        }
      ]
    },
    {
      "cell_type": "markdown",
      "metadata": {
        "id": "eM19dxr3M2av"
      },
      "source": [
        "Q.\n",
        "\n",
        "*  b)  What is the hypothesis we have tested above?\n",
        "* c)  What are the conclusions we can draw from the test outout?\n",
        "* d)  How can the p-value be used to make conclusions in a statistical test?\n",
        "* e)  A 95% confidence interval is also given in the output. What does a 95% \n",
        "confidence interval stand for? \n",
        "* f)  Can you draw the conclusion in c) also by the confidence interval? How?\n",
        "\n",
        "\n",
        "  \n",
        "\n"
      ]
    },
    {
      "cell_type": "markdown",
      "metadata": {
        "id": "AM3tMPr4OvJK"
      },
      "source": [
        "A. Some answers:R calculates and presents the value of the test statistic t = -3.1019, which you can compare with the appropriate percentile from a t-distribution table as we’ve done in class. However, since R also calculates the p-value, you do not need to do that. You just compare the p-value with the desired significancelevel and you’re done.In this case, we can reject the null hypothesis since the p-value is below 0.05 and we can conclude that the mean of the cats’ weight is significantly different from 5 (in fact it is lower). The output also automatically provides a confidence interval with the confidence level provided. Note that you get a double-sided confidence interval since the test is a double sided test. Using a one-sided test one of the confidence interval’s boundswould be infinity (Inf).\n",
        "\n",
        "\n"
      ]
    },
    {
      "cell_type": "markdown",
      "metadata": {
        "id": "X1iwngQiQTuV"
      },
      "source": [
        "Checking assumptionsT-tests are valid if the conditions/assumptions for them are fullfilled. Here we have collected a random sample of cats and the observations are therefore independent. We also need to ensure that data is normal distributed or if the dataset is large enough to assume normality for the mean bythe central limit theorem.To check if a sample is normally distributed, you can either look at a histogram"
      ]
    },
    {
      "cell_type": "code",
      "metadata": {
        "id": "dFyac567QicU",
        "outputId": "56dd779e-3378-4413-c4f3-bfc868ad0ae2",
        "colab": {
          "base_uri": "https://localhost:8080/",
          "height": 437
        }
      },
      "source": [
        "cats%>%ggplot(aes(Weight))+geom_histogram(binwidth=1) #Default values are mu=0,alternative=\"two.sided\"and conf.level=0.95"
      ],
      "execution_count": 15,
      "outputs": [
        {
          "output_type": "display_data",
          "data": {
            "image/png": "[encoded data removed]",
            "text/plain": [
              "plot without title"
            ]
          },
          "metadata": {
            "tags": [],
            "image/png": {
              "width": 420,
              "height": 420
            }
          }
        }
      ]
    },
    {
      "cell_type": "code",
      "metadata": {
        "id": "XZY3SB_tQnsL"
      },
      "source": [
        "Note: The impression of a histogram depends a lot on the binwidth and the number of bins. Change thebinwidth to get another plotNormal probability plots are usually better to check the distribution"
      ],
      "execution_count": null,
      "outputs": []
    },
    {
      "cell_type": "markdown",
      "metadata": {
        "id": "UbQCJ73wRGDv"
      },
      "source": [
        "Note: The impression of a histogram depends a lot on the bin width and the number of bins. Change the bin width to get another plot \n",
        "\n",
        "**Normal probability plots are usually better to check the distribution**"
      ]
    },
    {
      "cell_type": "code",
      "metadata": {
        "id": "x22tQK7dRdfG",
        "outputId": "ebd65faf-5e85-49e0-da96-163a2373976e",
        "colab": {
          "base_uri": "https://localhost:8080/",
          "height": 437
        }
      },
      "source": [
        "cats%>%ggplot(aes(sample=Weight))+stat_qq()+stat_qq_line()"
      ],
      "execution_count": 16,
      "outputs": [
        {
          "output_type": "display_data",
          "data": {
            "image/png": "[encoded data removed]",
            "text/plain": [
              "plot without title"
            ]
          },
          "metadata": {
            "tags": [],
            "image/png": {
              "width": 420,
              "height": 420
            }
          }
        }
      ]
    },
    {
      "cell_type": "markdown",
      "metadata": {
        "id": "vZlilpURRlv1"
      },
      "source": [
        "The observations should line up in a straight line if the sample is normally distributed. These are merely graphical methods and therefore subjective, but they give an easy way to check your distribution. A little practice will make you trained to see which deviations are so strong that normality is not a good choice anymore. In this case, there does not seem to be any strong evidence against the assumption of the normal distribution."
      ]
    },
    {
      "cell_type": "markdown",
      "metadata": {
        "id": "Oi_Xnun9SOVf"
      },
      "source": [
        "The QQplot can also be obtained by this #If you are running R Markdown code this code might not work with an error message “plot.new has not been called”. In that case set{}around the two lines."
      ]
    },
    {
      "cell_type": "code",
      "metadata": {
        "id": "iB_0lSPMSYVJ",
        "outputId": "d8f36d36-091a-4867-ae05-e9909445366e",
        "colab": {
          "base_uri": "https://localhost:8080/",
          "height": 437
        }
      },
      "source": [
        "qqnorm(cats$Weight)\n",
        "qqline(cats$Weight)"
      ],
      "execution_count": 21,
      "outputs": [
        {
          "output_type": "display_data",
          "data": {
            "image/png": "[encoded data removed]",
            "text/plain": [
              "Plot with title “Normal Q-Q Plot”"
            ]
          },
          "metadata": {
            "tags": [],
            "image/png": {
              "width": 420,
              "height": 420
            }
          }
        }
      ]
    },
    {
      "cell_type": "markdown",
      "metadata": {
        "id": "OD9z-IKPS35-"
      },
      "source": [
        "**3.2 Wilcoxon’s signed rank test**"
      ]
    },
    {
      "cell_type": "markdown",
      "metadata": {
        "id": "G0-yy3XxTAUn"
      },
      "source": [
        "If you have a small non-normal sample, you should use a non-parametric test and in the one-sample case the Wilcoxon’s signed rank test is the most powerful. The function you use to do this is called wilcox.test(...)and is used in almost exactly the same way ast.test(...)with the same options and default values.The principal difference between a t-test and the Wilcoxon test is that the former deals with the mean and the latter with the median, but as long as the underlying distribution is symmetric they coincide. Another difference is that this function does not produce a confidence interval unless you specify that with the option conf.int=TRUE.\n"
      ]
    },
    {
      "cell_type": "code",
      "metadata": {
        "id": "3KCjfJlkS0Qm",
        "outputId": "ab4426e0-3efd-4c31-bf6d-0afacf128c83",
        "colab": {
          "base_uri": "https://localhost:8080/",
          "height": 204
        }
      },
      "source": [
        "wilcox.test(cats$Weight,mu=5,conf.int=TRUE)"
      ],
      "execution_count": 22,
      "outputs": [
        {
          "output_type": "display_data",
          "data": {
            "text/plain": [
              "\n",
              "\tWilcoxon signed rank test with continuity correction\n",
              "\n",
              "data:  cats$Weight\n",
              "V = 407, p-value = 0.006371\n",
              "alternative hypothesis: true location is not equal to 5\n",
              "95 percent confidence interval:\n",
              " 4.100064 4.800040\n",
              "sample estimates:\n",
              "(pseudo)median \n",
              "      4.449943 \n"
            ]
          },
          "metadata": {
            "tags": []
          }
        }
      ]
    },
    {
      "cell_type": "markdown",
      "metadata": {
        "id": "fON4WPK6TlpO"
      },
      "source": [
        "g) Check to see that the results are similar to the t-test in this case.   Note: The value V in the output is the same as S+ that often is used in litterature."
      ]
    },
    {
      "cell_type": "code",
      "metadata": {
        "id": "mn-99SkRTcY2",
        "outputId": "8014135d-ba59-4a85-a4c2-28c883fb0cd1",
        "colab": {
          "base_uri": "https://localhost:8080/",
          "height": 204
        }
      },
      "source": [
        "t.test(cats$Weight, mu=5) #similar but not exact same? This is mean"
      ],
      "execution_count": 23,
      "outputs": [
        {
          "output_type": "display_data",
          "data": {
            "text/plain": [
              "\n",
              "\tOne Sample t-test\n",
              "\n",
              "data:  cats$Weight\n",
              "t = -3.1019, df = 56, p-value = 0.00301\n",
              "alternative hypothesis: true mean is not equal to 5\n",
              "95 percent confidence interval:\n",
              " 4.156882 4.818557\n",
              "sample estimates:\n",
              "mean of x \n",
              " 4.487719 \n"
            ]
          },
          "metadata": {
            "tags": []
          }
        }
      ]
    },
    {
      "cell_type": "markdown",
      "metadata": {
        "id": "kcyJkC30UyJG"
      },
      "source": [
        "**3.3 Exercise:**\n",
        "\n",
        "Do the same analysis as above using the age of the cats as the variable of interest:\n",
        "* h) Do a t-test to test if the mean age is significantly larger than 4.\n",
        "* i) Look at the histogram and probability plots (qqplots) and determine if the observations follow a normaldistribution.\n",
        "* j) Determine if it is better to use the t-test or the Wilcoxon’s signed rank test for these data.\n",
        "* k) Conduct the Wilcoxon’s test (independently of your decision on if it is necessary or not) and comparethe results with those from the t-test."
      ]
    },
    {
      "cell_type": "code",
      "metadata": {
        "id": "-1-bltwFVIpf",
        "outputId": "0b341577-5b3a-432f-8f5d-25f7c3e0c092",
        "colab": {
          "base_uri": "https://localhost:8080/",
          "height": 34
        }
      },
      "source": [
        "mean(cats$Age) #put mu=5?"
      ],
      "execution_count": 25,
      "outputs": [
        {
          "output_type": "display_data",
          "data": {
            "text/plain": [
              "[1] 4.964912"
            ],
            "text/latex": "4.96491228070175",
            "text/markdown": "4.96491228070175",
            "text/html": [
              "4.96491228070175"
            ]
          },
          "metadata": {
            "tags": []
          }
        }
      ]
    },
    {
      "cell_type": "code",
      "metadata": {
        "id": "m2KauLaOWVEg",
        "outputId": "68214696-936e-4538-c3af-92eee32d94c2",
        "colab": {
          "base_uri": "https://localhost:8080/",
          "height": 204
        }
      },
      "source": [
        "#h \n",
        "t.test(cats$Age, mu=4.96491228070175)"
      ],
      "execution_count": 26,
      "outputs": [
        {
          "output_type": "display_data",
          "data": {
            "text/plain": [
              "\n",
              "\tOne Sample t-test\n",
              "\n",
              "data:  cats$Age\n",
              "t = 1.2273e-14, df = 56, p-value = 1\n",
              "alternative hypothesis: true mean is not equal to 4.964912\n",
              "95 percent confidence interval:\n",
              " 4.240054 5.689771\n",
              "sample estimates:\n",
              "mean of x \n",
              " 4.964912 \n"
            ]
          },
          "metadata": {
            "tags": []
          }
        }
      ]
    },
    {
      "cell_type": "code",
      "metadata": {
        "id": "EV8i3M1xWizI",
        "outputId": "a5f516c8-6dc4-46bd-a0f3-fb37d787639a",
        "colab": {
          "base_uri": "https://localhost:8080/",
          "height": 204
        }
      },
      "source": [
        "t.test(cats$Age, mu=5)"
      ],
      "execution_count": 27,
      "outputs": [
        {
          "output_type": "display_data",
          "data": {
            "text/plain": [
              "\n",
              "\tOne Sample t-test\n",
              "\n",
              "data:  cats$Age\n",
              "t = -0.096969, df = 56, p-value = 0.9231\n",
              "alternative hypothesis: true mean is not equal to 5\n",
              "95 percent confidence interval:\n",
              " 4.240054 5.689771\n",
              "sample estimates:\n",
              "mean of x \n",
              " 4.964912 \n"
            ]
          },
          "metadata": {
            "tags": []
          }
        }
      ]
    },
    {
      "cell_type": "code",
      "metadata": {
        "id": "peDxXFDyW8Ak",
        "outputId": "b97c5a38-e2aa-416b-e186-1555f4cc5306",
        "colab": {
          "base_uri": "https://localhost:8080/",
          "height": 437
        }
      },
      "source": [
        "#i  answer No \n",
        "cats%>%ggplot(aes(Age))+geom_histogram(binwidth=1) "
      ],
      "execution_count": 28,
      "outputs": [
        {
          "output_type": "display_data",
          "data": {
            "image/png": "[encoded data removed]",
            "text/plain": [
              "plot without title"
            ]
          },
          "metadata": {
            "tags": [],
            "image/png": {
              "width": 420,
              "height": 420
            }
          }
        }
      ]
    },
    {
      "cell_type": "code",
      "metadata": {
        "id": "iaq2VlEqXmUN",
        "outputId": "60be8679-de1d-458a-a30c-d0e8d3e790b0",
        "colab": {
          "base_uri": "https://localhost:8080/",
          "height": 437
        }
      },
      "source": [
        "qqnorm(cats$Age)\n",
        "qqline(cats$Age)"
      ],
      "execution_count": 30,
      "outputs": [
        {
          "output_type": "display_data",
          "data": {
            "image/png": "[encoded data removed]",
            "text/plain": [
              "Plot with title “Normal Q-Q Plot”"
            ]
          },
          "metadata": {
            "tags": [],
            "image/png": {
              "width": 420,
              "height": 420
            }
          }
        }
      ]
    },
    {
      "cell_type": "code",
      "metadata": {
        "id": "AW9fKqUlX71f",
        "outputId": "1ffcfc3c-606a-4699-f121-cec26ccc4bde",
        "colab": {
          "base_uri": "https://localhost:8080/",
          "height": 437
        }
      },
      "source": [
        "cats%>%ggplot(aes(sample=Age))+stat_qq()+stat_qq_line()"
      ],
      "execution_count": 31,
      "outputs": [
        {
          "output_type": "display_data",
          "data": {
            "image/png": "[encoded data removed]",
            "text/plain": [
              "plot without title"
            ]
          },
          "metadata": {
            "tags": [],
            "image/png": {
              "width": 420,
              "height": 420
            }
          }
        }
      ]
    },
    {
      "cell_type": "code",
      "metadata": {
        "id": "dpgFj5tQXKuf",
        "outputId": "22a69840-f285-4769-eb15-e4863e3d5c8f",
        "colab": {
          "base_uri": "https://localhost:8080/",
          "height": 204
        }
      },
      "source": [
        "#j. Answer yes, it 's necessary\n",
        "wilcox.test(cats$Age,mu=5,conf.int=TRUE)"
      ],
      "execution_count": 29,
      "outputs": [
        {
          "output_type": "display_data",
          "data": {
            "text/plain": [
              "\n",
              "\tWilcoxon signed rank test with continuity correction\n",
              "\n",
              "data:  cats$Age\n",
              "V = 634, p-value = 0.6156\n",
              "alternative hypothesis: true location is not equal to 5\n",
              "95 percent confidence interval:\n",
              " 4.499969 5.500051\n",
              "sample estimates:\n",
              "(pseudo)median \n",
              "      4.999986 \n"
            ]
          },
          "metadata": {
            "tags": []
          }
        }
      ]
    },
    {
      "cell_type": "code",
      "metadata": {
        "id": "c6ChMZjkYH8q",
        "outputId": "62585e59-362e-475e-8fdd-366fab4a0a6f",
        "colab": {
          "base_uri": "https://localhost:8080/",
          "height": 204
        }
      },
      "source": [
        "#compare the result from t.test\n",
        "t.test(cats$Age, mu=5)"
      ],
      "execution_count": 32,
      "outputs": [
        {
          "output_type": "display_data",
          "data": {
            "text/plain": [
              "\n",
              "\tOne Sample t-test\n",
              "\n",
              "data:  cats$Age\n",
              "t = -0.096969, df = 56, p-value = 0.9231\n",
              "alternative hypothesis: true mean is not equal to 5\n",
              "95 percent confidence interval:\n",
              " 4.240054 5.689771\n",
              "sample estimates:\n",
              "mean of x \n",
              " 4.964912 \n"
            ]
          },
          "metadata": {
            "tags": []
          }
        }
      ]
    },
    {
      "cell_type": "markdown",
      "metadata": {
        "id": "p9pzCljCZkXT"
      },
      "source": [
        "\n",
        " **4 Two-sample inference**\n",
        " \n",
        " **4.1 Two-sample t-test**"
      ]
    },
    {
      "cell_type": "markdown",
      "metadata": {
        "id": "7ilW-6MlZ4QE"
      },
      "source": [
        "Also two-sample t-test are run with thet.test()function, e.g."
      ]
    },
    {
      "cell_type": "code",
      "metadata": {
        "id": "dfhmSEExZkEX",
        "outputId": "3e267110-d7ea-4dbd-cbc3-cc69cfc2a30a",
        "colab": {
          "base_uri": "https://localhost:8080/",
          "height": 204
        }
      },
      "source": [
        "t.test(Weight~Sex, data=cats) # note P value"
      ],
      "execution_count": 33,
      "outputs": [
        {
          "output_type": "display_data",
          "data": {
            "text/plain": [
              "\n",
              "\tWelch Two Sample t-test\n",
              "\n",
              "data:  Weight by Sex\n",
              "t = -6.7536, df = 52.236, p-value = 1.198e-08\n",
              "alternative hypothesis: true difference in means is not equal to 0\n",
              "95 percent confidence interval:\n",
              " -2.169501 -1.175685\n",
              "sample estimates:\n",
              "mean in group female   mean in group male \n",
              "            3.607407             5.280000 \n"
            ]
          },
          "metadata": {
            "tags": []
          }
        }
      ]
    },
    {
      "cell_type": "markdown",
      "metadata": {
        "id": "3esJN8uPaNgp"
      },
      "source": [
        "A two-sample t-test tests if the difference between two population means is significantly different from 0(μ= 0). A two-sided alternative is used and the produced confidence interval has a 95% confidence level.Note that R, by default, carries out Welch’s t-test assuming the variances in the two groups are unequal. Ifyou want the standard t-test using a common pooled variance you have to add the optionvar.equal=TRUE."
      ]
    },
    {
      "cell_type": "code",
      "metadata": {
        "id": "Wu1mN6wPaX4C",
        "outputId": "8ab15b75-9611-42aa-935a-af8a24a7b177",
        "colab": {
          "base_uri": "https://localhost:8080/",
          "height": 204
        }
      },
      "source": [
        "t.test(Weight~Sex, data=cats, var.equal=TRUE)"
      ],
      "execution_count": 34,
      "outputs": [
        {
          "output_type": "display_data",
          "data": {
            "text/plain": [
              "\n",
              "\tTwo Sample t-test\n",
              "\n",
              "data:  Weight by Sex\n",
              "t = -6.7985, df = 55, p-value = 8.063e-09\n",
              "alternative hypothesis: true difference in means is not equal to 0\n",
              "95 percent confidence interval:\n",
              " -2.165632 -1.179553\n",
              "sample estimates:\n",
              "mean in group female   mean in group male \n",
              "            3.607407             5.280000 \n"
            ]
          },
          "metadata": {
            "tags": []
          }
        }
      ]
    },
    {
      "cell_type": "markdown",
      "metadata": {
        "id": "Yj0gMUzVaj9e"
      },
      "source": [
        "Checking assumptionsQQplots need to be made for each of the samples separately. Either by"
      ]
    },
    {
      "cell_type": "code",
      "metadata": {
        "id": "3_gvirE5aebJ",
        "outputId": "b8b4e14c-185b-4551-b439-1430b25fbaf2",
        "colab": {
          "base_uri": "https://localhost:8080/",
          "height": 437
        }
      },
      "source": [
        "cats%>%ggplot(aes(sample=Weight))+stat_qq()+stat_qq_line()+facet_wrap(~Sex)"
      ],
      "execution_count": 35,
      "outputs": [
        {
          "output_type": "display_data",
          "data": {
            "image/png": "[encoded data removed]",
            "text/plain": [
              "plot without title"
            ]
          },
          "metadata": {
            "tags": [],
            "image/png": {
              "width": 420,
              "height": 420
            }
          }
        }
      ]
    },
    {
      "cell_type": "code",
      "metadata": {
        "id": "4RFW6-jtaxf2"
      },
      "source": [
        ""
      ],
      "execution_count": null,
      "outputs": []
    },
    {
      "cell_type": "markdown",
      "metadata": {
        "id": "QJMyqnPmat1J"
      },
      "source": [
        "or using"
      ]
    },
    {
      "cell_type": "code",
      "metadata": {
        "id": "YILtp3UUa00b",
        "outputId": "953536ec-974d-444b-f31d-6154b6eec73a",
        "colab": {
          "base_uri": "https://localhost:8080/",
          "height": 437
        }
      },
      "source": [
        "catsF<-cats%>%filter(Sex==\"female\")\n",
        "qqnorm(catsF$Weight)\n",
        "qqline(catsF$Weight)"
      ],
      "execution_count": 39,
      "outputs": [
        {
          "output_type": "display_data",
          "data": {
            "image/png": "[encoded data removed]",
            "text/plain": [
              "Plot with title “Normal Q-Q Plot”"
            ]
          },
          "metadata": {
            "tags": [],
            "image/png": {
              "width": 420,
              "height": 420
            }
          }
        }
      ]
    },
    {
      "cell_type": "code",
      "metadata": {
        "id": "bCs7dhmmbIO8"
      },
      "source": [
        "#TBC"
      ],
      "execution_count": null,
      "outputs": []
    }
  ]
}